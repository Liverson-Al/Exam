{
  "nbformat": 4,
  "nbformat_minor": 0,
  "metadata": {
    "colab": {
      "name": "Untitled1.ipynb",
      "provenance": [],
      "toc_visible": true,
      "authorship_tag": "ABX9TyMQkjzCHDhKDzsZJ5XsWlCm",
      "include_colab_link": true
    },
    "kernelspec": {
      "name": "python3",
      "display_name": "Python 3"
    },
    "language_info": {
      "name": "python"
    }
  },
  "cells": [
    {
      "cell_type": "markdown",
      "metadata": {
        "id": "view-in-github",
        "colab_type": "text"
      },
      "source": [
        "<a href=\"https://colab.research.google.com/github/Liverson-Al/Exam/blob/main/packets1.ipynb\" target=\"_parent\"><img src=\"https://colab.research.google.com/assets/colab-badge.svg\" alt=\"Open In Colab\"/></a>"
      ]
    },
    {
      "cell_type": "code",
      "execution_count": null,
      "metadata": {
        "colab": {
          "base_uri": "https://localhost:8080/"
        },
        "id": "jZEY98lFdvMf",
        "outputId": "75897b2e-9415-43ba-a455-b4183017b6c0"
      },
      "outputs": [
        {
          "output_type": "stream",
          "name": "stdout",
          "text": [
            "['cat', 'dog', 'sheep', 'giraffe']\n"
          ]
        }
      ],
      "source": [
        "def myFunc(e):\n",
        "  return(len(e))\n",
        "\n",
        "n = 0\n",
        "file = open('input.txt', 'r')\n",
        "animals = []\n",
        "name_of_animals = []\n",
        "for line in file:\n",
        "  animals.append(line.split(' '))\n",
        "  n+=1\n",
        "\n",
        "for i in range(n-1):\n",
        "  for j in range(i+1, n):\n",
        "    if (animals[i][1] ==  animals[j][1] and animals[i][2] != animals[j][2]):\n",
        "      name_of_animals.append(animals[i][1])\n",
        "\n",
        "    \n",
        "name_of_animals = set(name_of_animals)\n",
        "name_of_animals = list(name_of_animals)\n",
        "name_of_animals.sort(key = myFunc)\n",
        "nn=sorted(name_of_animals,key = len)\n",
        "\n",
        "print(nn)\n",
        "file.close() "
      ]
    }
  ]
}