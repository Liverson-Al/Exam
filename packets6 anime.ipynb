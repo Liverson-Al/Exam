{
  "nbformat": 4,
  "nbformat_minor": 0,
  "metadata": {
    "colab": {
      "name": "Untitled7.ipynb",
      "provenance": [],
      "collapsed_sections": [],
      "authorship_tag": "ABX9TyPEel2E5klQdMMy/0zLDGK8",
      "include_colab_link": true
    },
    "kernelspec": {
      "name": "python3",
      "display_name": "Python 3"
    },
    "language_info": {
      "name": "python"
    }
  },
  "cells": [
    {
      "cell_type": "markdown",
      "metadata": {
        "id": "view-in-github",
        "colab_type": "text"
      },
      "source": [
        "<a href=\"https://colab.research.google.com/github/Liverson-Al/Exam/blob/main/packets6%20anime.ipynb\" target=\"_parent\"><img src=\"https://colab.research.google.com/assets/colab-badge.svg\" alt=\"Open In Colab\"/></a>"
      ]
    },
    {
      "cell_type": "code",
      "execution_count": null,
      "metadata": {
        "colab": {
          "base_uri": "https://localhost:8080/"
        },
        "id": "3Cm_ySaOvzvq",
        "outputId": "d1e83dd0-45b1-470e-ffe5-bb961790e4c9"
      },
      "outputs": [
        {
          "output_type": "stream",
          "name": "stdout",
          "text": [
            "                              Title      Production Episodes       Source  \\\n",
            "0                Shingeki no Kyojin      Wit Studio       25        Manga   \n",
            "1  Fullmetal Alchemist: Brotherhood           Bones       64        Manga   \n",
            "2                  Sword Art Online    A-1 Pictures       25  Light novel   \n",
            "3                     One Punch Man        Madhouse       12    Web manga   \n",
            "4             Boku no Hero Academia           Bones       13        Manga   \n",
            "5                       Tokyo Ghoul  Studio Pierrot       12        Manga   \n",
            "6                            Naruto  Studio Pierrot      220        Manga   \n",
            "7            Hunter x Hunter (2011)        Madhouse      148        Manga   \n",
            "8                  Kimetsu no Yaiba        ufotable       26        Manga   \n",
            "9       Shingeki no Kyojin Season 2      Wit Studio       12        Manga   \n",
            "\n",
            "                                      Genre                   Airdate  Rating  \\\n",
            "0              Action,Drama,Fantasy,Mystery  Apr 7, 2013, 01:58 (JST)    8.52   \n",
            "1     Action,Adventure,Comedy,Drama,Fantasy  Apr 5, 2009, 17:00 (JST)    9.16   \n",
            "2          Action,Adventure,Fantasy,Romance  Jul 8, 2012, 00:00 (JST)    7.20   \n",
            "3         Action,Comedy,Sci-Fi,Supernatural  Oct 5, 2015, 01:05 (JST)    8.52   \n",
            "4                             Action,Comedy  Apr 3, 2016, 17:00 (JST)    7.98   \n",
            "5  Action,Drama,Horror,Mystery,Supernatural  Jul 4, 2014, 00:00 (JST)    7.80   \n",
            "6                   Action,Adventure,Comedy  Oct 3, 2002, 19:30 (JST)    7.95   \n",
            "7                  Action,Adventure,Fantasy  Oct 2, 2011, 10:55 (JST)    9.06   \n",
            "8                       Action,Supernatural  Apr 6, 2019, 23:30 (JST)    8.57   \n",
            "9              Action,Drama,Fantasy,Mystery  Apr 1, 2017, 22:00 (JST)    8.49   \n",
            "\n",
            "      Voters                     Theme  \n",
            "0  3,142,121      Military,Super Power  \n",
            "1  2,676,911                  Military  \n",
            "2  2,586,628                      Game  \n",
            "3  2,583,068        Parody,Super Power  \n",
            "4  2,426,309        School,Super Power  \n",
            "5  2,315,361             Psychological  \n",
            "6  2,289,448  Martial Arts,Super Power  \n",
            "7  2,152,116               Super Power  \n",
            "8  2,112,029         Demons,Historical  \n",
            "9  2,086,165      Military,Super Power  \n"
          ]
        }
      ],
      "source": [
        "import numpy as np\n",
        "import pandas as pd\n",
        "import matplotlib.pyplot as mpl\n",
        "from collections import Counter\n",
        "\n",
        "df = pd.read_csv('anime.csv')\n",
        "df = df.replace({'?': np.nan})\n",
        "print(df[:10])"
      ]
    },
    {
      "cell_type": "code",
      "source": [
        "df.columns= df.columns.str.replace(' ', '_').str.lower()\n",
        "\n",
        "df['episodes'] = df['episodes'].astype(float)\n",
        "df['voters'] = df['voters'].str.replace(',','').astype(int)\n",
        "df.dtypes"
      ],
      "metadata": {
        "colab": {
          "base_uri": "https://localhost:8080/"
        },
        "id": "-RElRonQx0W3",
        "outputId": "ad91a7d1-ee57-4469-a32a-b6a69cfe133d"
      },
      "execution_count": null,
      "outputs": [
        {
          "output_type": "execute_result",
          "data": {
            "text/plain": [
              "title          object\n",
              "production     object\n",
              "episodes      float64\n",
              "source         object\n",
              "genre          object\n",
              "airdate        object\n",
              "rating        float64\n",
              "voters          int64\n",
              "theme          object\n",
              "dtype: object"
            ]
          },
          "metadata": {},
          "execution_count": 112
        }
      ]
    },
    {
      "cell_type": "code",
      "source": [
        "df.columns"
      ],
      "metadata": {
        "colab": {
          "base_uri": "https://localhost:8080/"
        },
        "id": "dzbgOr3ZyOMP",
        "outputId": "ae4f49ec-4161-4d96-9fc4-a9dcb2f12f7d"
      },
      "execution_count": null,
      "outputs": [
        {
          "output_type": "execute_result",
          "data": {
            "text/plain": [
              "Index(['title', 'production', 'episodes', 'source', 'genre', 'airdate',\n",
              "       'rating', 'voters', 'theme'],\n",
              "      dtype='object')"
            ]
          },
          "metadata": {},
          "execution_count": 78
        }
      ]
    },
    {
      "cell_type": "code",
      "source": [
        "df.describe()"
      ],
      "metadata": {
        "colab": {
          "base_uri": "https://localhost:8080/",
          "height": 300
        },
        "id": "YItxHg1DygUZ",
        "outputId": "f3979203-dec7-4e65-856f-a3069bda85e3"
      },
      "execution_count": null,
      "outputs": [
        {
          "output_type": "execute_result",
          "data": {
            "text/plain": [
              "          episodes       rating        voters\n",
              "count  1939.000000  1944.000000  1.992000e+03\n",
              "mean     14.975245     7.150849  1.643311e+05\n",
              "std      28.116711     0.709454  3.135926e+05\n",
              "min       1.000000     2.960000  8.662000e+03\n",
              "25%       1.000000     6.720000  2.126500e+04\n",
              "50%      12.000000     7.210000  5.478550e+04\n",
              "75%      13.000000     7.590000  1.585070e+05\n",
              "max     500.000000     9.160000  3.142121e+06"
            ],
            "text/html": [
              "\n",
              "  <div id=\"df-47f255f9-582f-484a-9358-a417f2300a6c\">\n",
              "    <div class=\"colab-df-container\">\n",
              "      <div>\n",
              "<style scoped>\n",
              "    .dataframe tbody tr th:only-of-type {\n",
              "        vertical-align: middle;\n",
              "    }\n",
              "\n",
              "    .dataframe tbody tr th {\n",
              "        vertical-align: top;\n",
              "    }\n",
              "\n",
              "    .dataframe thead th {\n",
              "        text-align: right;\n",
              "    }\n",
              "</style>\n",
              "<table border=\"1\" class=\"dataframe\">\n",
              "  <thead>\n",
              "    <tr style=\"text-align: right;\">\n",
              "      <th></th>\n",
              "      <th>episodes</th>\n",
              "      <th>rating</th>\n",
              "      <th>voters</th>\n",
              "    </tr>\n",
              "  </thead>\n",
              "  <tbody>\n",
              "    <tr>\n",
              "      <th>count</th>\n",
              "      <td>1939.000000</td>\n",
              "      <td>1944.000000</td>\n",
              "      <td>1.992000e+03</td>\n",
              "    </tr>\n",
              "    <tr>\n",
              "      <th>mean</th>\n",
              "      <td>14.975245</td>\n",
              "      <td>7.150849</td>\n",
              "      <td>1.643311e+05</td>\n",
              "    </tr>\n",
              "    <tr>\n",
              "      <th>std</th>\n",
              "      <td>28.116711</td>\n",
              "      <td>0.709454</td>\n",
              "      <td>3.135926e+05</td>\n",
              "    </tr>\n",
              "    <tr>\n",
              "      <th>min</th>\n",
              "      <td>1.000000</td>\n",
              "      <td>2.960000</td>\n",
              "      <td>8.662000e+03</td>\n",
              "    </tr>\n",
              "    <tr>\n",
              "      <th>25%</th>\n",
              "      <td>1.000000</td>\n",
              "      <td>6.720000</td>\n",
              "      <td>2.126500e+04</td>\n",
              "    </tr>\n",
              "    <tr>\n",
              "      <th>50%</th>\n",
              "      <td>12.000000</td>\n",
              "      <td>7.210000</td>\n",
              "      <td>5.478550e+04</td>\n",
              "    </tr>\n",
              "    <tr>\n",
              "      <th>75%</th>\n",
              "      <td>13.000000</td>\n",
              "      <td>7.590000</td>\n",
              "      <td>1.585070e+05</td>\n",
              "    </tr>\n",
              "    <tr>\n",
              "      <th>max</th>\n",
              "      <td>500.000000</td>\n",
              "      <td>9.160000</td>\n",
              "      <td>3.142121e+06</td>\n",
              "    </tr>\n",
              "  </tbody>\n",
              "</table>\n",
              "</div>\n",
              "      <button class=\"colab-df-convert\" onclick=\"convertToInteractive('df-47f255f9-582f-484a-9358-a417f2300a6c')\"\n",
              "              title=\"Convert this dataframe to an interactive table.\"\n",
              "              style=\"display:none;\">\n",
              "        \n",
              "  <svg xmlns=\"http://www.w3.org/2000/svg\" height=\"24px\"viewBox=\"0 0 24 24\"\n",
              "       width=\"24px\">\n",
              "    <path d=\"M0 0h24v24H0V0z\" fill=\"none\"/>\n",
              "    <path d=\"M18.56 5.44l.94 2.06.94-2.06 2.06-.94-2.06-.94-.94-2.06-.94 2.06-2.06.94zm-11 1L8.5 8.5l.94-2.06 2.06-.94-2.06-.94L8.5 2.5l-.94 2.06-2.06.94zm10 10l.94 2.06.94-2.06 2.06-.94-2.06-.94-.94-2.06-.94 2.06-2.06.94z\"/><path d=\"M17.41 7.96l-1.37-1.37c-.4-.4-.92-.59-1.43-.59-.52 0-1.04.2-1.43.59L10.3 9.45l-7.72 7.72c-.78.78-.78 2.05 0 2.83L4 21.41c.39.39.9.59 1.41.59.51 0 1.02-.2 1.41-.59l7.78-7.78 2.81-2.81c.8-.78.8-2.07 0-2.86zM5.41 20L4 18.59l7.72-7.72 1.47 1.35L5.41 20z\"/>\n",
              "  </svg>\n",
              "      </button>\n",
              "      \n",
              "  <style>\n",
              "    .colab-df-container {\n",
              "      display:flex;\n",
              "      flex-wrap:wrap;\n",
              "      gap: 12px;\n",
              "    }\n",
              "\n",
              "    .colab-df-convert {\n",
              "      background-color: #E8F0FE;\n",
              "      border: none;\n",
              "      border-radius: 50%;\n",
              "      cursor: pointer;\n",
              "      display: none;\n",
              "      fill: #1967D2;\n",
              "      height: 32px;\n",
              "      padding: 0 0 0 0;\n",
              "      width: 32px;\n",
              "    }\n",
              "\n",
              "    .colab-df-convert:hover {\n",
              "      background-color: #E2EBFA;\n",
              "      box-shadow: 0px 1px 2px rgba(60, 64, 67, 0.3), 0px 1px 3px 1px rgba(60, 64, 67, 0.15);\n",
              "      fill: #174EA6;\n",
              "    }\n",
              "\n",
              "    [theme=dark] .colab-df-convert {\n",
              "      background-color: #3B4455;\n",
              "      fill: #D2E3FC;\n",
              "    }\n",
              "\n",
              "    [theme=dark] .colab-df-convert:hover {\n",
              "      background-color: #434B5C;\n",
              "      box-shadow: 0px 1px 3px 1px rgba(0, 0, 0, 0.15);\n",
              "      filter: drop-shadow(0px 1px 2px rgba(0, 0, 0, 0.3));\n",
              "      fill: #FFFFFF;\n",
              "    }\n",
              "  </style>\n",
              "\n",
              "      <script>\n",
              "        const buttonEl =\n",
              "          document.querySelector('#df-47f255f9-582f-484a-9358-a417f2300a6c button.colab-df-convert');\n",
              "        buttonEl.style.display =\n",
              "          google.colab.kernel.accessAllowed ? 'block' : 'none';\n",
              "\n",
              "        async function convertToInteractive(key) {\n",
              "          const element = document.querySelector('#df-47f255f9-582f-484a-9358-a417f2300a6c');\n",
              "          const dataTable =\n",
              "            await google.colab.kernel.invokeFunction('convertToInteractive',\n",
              "                                                     [key], {});\n",
              "          if (!dataTable) return;\n",
              "\n",
              "          const docLinkHtml = 'Like what you see? Visit the ' +\n",
              "            '<a target=\"_blank\" href=https://colab.research.google.com/notebooks/data_table.ipynb>data table notebook</a>'\n",
              "            + ' to learn more about interactive tables.';\n",
              "          element.innerHTML = '';\n",
              "          dataTable['output_type'] = 'display_data';\n",
              "          await google.colab.output.renderOutput(dataTable, element);\n",
              "          const docLink = document.createElement('div');\n",
              "          docLink.innerHTML = docLinkHtml;\n",
              "          element.appendChild(docLink);\n",
              "        }\n",
              "      </script>\n",
              "    </div>\n",
              "  </div>\n",
              "  "
            ]
          },
          "metadata": {},
          "execution_count": 79
        }
      ]
    },
    {
      "cell_type": "code",
      "source": [
        ""
      ],
      "metadata": {
        "id": "foaTxxrH_5BL"
      },
      "execution_count": null,
      "outputs": []
    },
    {
      "cell_type": "code",
      "source": [
        "genrelist = list(df['genre'].str.split(','))\n",
        "listgenre = sum(genrelist, [])\n",
        "pl, ax = mpl.subplots()\n",
        "pl.set_figwidth(22)\n",
        "ax.bar(list(sorted(set(listgenre))), [listgenre.count(x) for x in sorted(set(listgenre))])"
      ],
      "metadata": {
        "colab": {
          "base_uri": "https://localhost:8080/",
          "height": 212
        },
        "id": "lxlOJLhp2SYn",
        "outputId": "43df926e-e173-4a14-e8fa-ba5a061440f6"
      },
      "execution_count": null,
      "outputs": [
        {
          "output_type": "execute_result",
          "data": {
            "text/plain": [
              "<BarContainer object of 19 artists>"
            ]
          },
          "metadata": {},
          "execution_count": 92
        },
        {
          "output_type": "display_data",
          "data": {
            "text/plain": [
              "<Figure size 1584x288 with 1 Axes>"
            ],
            "image/png": "[encoded data removed]"
          },
          "metadata": {
            "needs_background": "light"
          }
        }
      ]
    },
    {
      "cell_type": "code",
      "source": [
        "number_e = list(df['episodes'])\n",
        "number_e.sort()\n",
        "c = Counter(number_e)\n",
        "df.isna().sum().sum()\n",
        "\n",
        "#list_e = sum(number_e, [])\n",
        "#pl1, ax1 = mpl.subplots()\n",
        "#ax1.bar(list(sorted(set(list_e))))"
      ],
      "metadata": {
        "colab": {
          "base_uri": "https://localhost:8080/"
        },
        "id": "2TY82YFB80aM",
        "outputId": "03cc82b8-d395-4617-ceea-45f465778c3c"
      },
      "execution_count": null,
      "outputs": [
        {
          "output_type": "execute_result",
          "data": {
            "text/plain": [
              "1073"
            ]
          },
          "metadata": {},
          "execution_count": 125
        }
      ]
    },
    {
      "cell_type": "code",
      "source": [
        ""
      ],
      "metadata": {
        "id": "WABXIOxM_UpD"
      },
      "execution_count": null,
      "outputs": []
    }
  ]
}